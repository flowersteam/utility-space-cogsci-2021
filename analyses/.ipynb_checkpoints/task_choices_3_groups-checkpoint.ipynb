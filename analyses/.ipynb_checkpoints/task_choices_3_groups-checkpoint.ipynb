{
 "cells": [
  {
   "cell_type": "code",
   "execution_count": 3,
   "metadata": {},
   "outputs": [],
   "source": [
    "import numpy as np\n",
    "import pandas as pd\n",
    "import scipy.stats as scs\n",
    "from os import path\n",
    "from IPython.display import display as dsp"
   ]
  },
  {
   "cell_type": "code",
   "execution_count": 5,
   "metadata": {},
   "outputs": [
    {
     "data": {
      "text/html": [
       "<div>\n",
       "<style scoped>\n",
       "    .dataframe tbody tr th:only-of-type {\n",
       "        vertical-align: middle;\n",
       "    }\n",
       "\n",
       "    .dataframe tbody tr th {\n",
       "        vertical-align: top;\n",
       "    }\n",
       "\n",
       "    .dataframe thead th {\n",
       "        text-align: right;\n",
       "    }\n",
       "</style>\n",
       "<table border=\"1\" class=\"dataframe\">\n",
       "  <thead>\n",
       "    <tr style=\"text-align: right;\">\n",
       "      <th></th>\n",
       "      <th></th>\n",
       "      <th></th>\n",
       "      <th>n</th>\n",
       "    </tr>\n",
       "    <tr>\n",
       "      <th>group</th>\n",
       "      <th>activity</th>\n",
       "      <th>trial</th>\n",
       "      <th></th>\n",
       "    </tr>\n",
       "  </thead>\n",
       "  <tbody>\n",
       "    <tr>\n",
       "      <th rowspan=\"5\" valign=\"top\">0</th>\n",
       "      <th rowspan=\"5\" valign=\"top\">A1</th>\n",
       "      <th>1</th>\n",
       "      <td>73</td>\n",
       "    </tr>\n",
       "    <tr>\n",
       "      <th>2</th>\n",
       "      <td>74</td>\n",
       "    </tr>\n",
       "    <tr>\n",
       "      <th>3</th>\n",
       "      <td>74</td>\n",
       "    </tr>\n",
       "    <tr>\n",
       "      <th>4</th>\n",
       "      <td>74</td>\n",
       "    </tr>\n",
       "    <tr>\n",
       "      <th>5</th>\n",
       "      <td>74</td>\n",
       "    </tr>\n",
       "  </tbody>\n",
       "</table>\n",
       "</div>"
      ],
      "text/plain": [
       "                       n\n",
       "group activity trial    \n",
       "0     A1       1      73\n",
       "               2      74\n",
       "               3      74\n",
       "               4      74\n",
       "               5      74"
      ]
     },
     "metadata": {},
     "output_type": "display_data"
    }
   ],
   "source": [
    "def make_top_fig(data_path, figname, save_to, save_as=None):\n",
    "    # Load data, select columns\n",
    "    df = pd.read_csv(data_path)[['sid','group','trial','activity']]\n",
    "    \n",
    "    # Select free-play trials\n",
    "    df = df.loc[(df.trial <= 60+250) & (df.trial > 60)]\n",
    "    df.loc[:, 'trial'] -= 60\n",
    "    \n",
    "    # Get group sizes\n",
    "    group_sizes = [group_sids.size for group_sids in df.groupby(['group']).sid.unique().values]\n",
    "    \n",
    "    # Count subjects per activity per trial for each group\n",
    "    df = df.groupby(['group','activity','trial']).agg({'sid': 'nunique'})\n",
    "    df = df.rename(columns={'sid':'n'})\n",
    "\n",
    "    dsp(df.head())\n",
    "    \n",
    "    # Visualize task choices with Altair\n",
    "    sampling_chart = alt.Chart(df).mark_line().encode(\n",
    "    x = 'time', y = 'sampling_ratio', color='task'\n",
    "    )\n",
    "    sampling_chart = sampling_chart.configure_view(\n",
    "        continuousHeight=200,\n",
    "        continuousWidth=400,\n",
    "    )\n",
    "    dsp(sampling_chart)\n",
    "        \n",
    "\n",
    "make_top_fig(\n",
    "    data_path = 'data/clean_data.csv',\n",
    "    figname = 'activity_preferences',\n",
    "    save_to = 'figures',\n",
    "    save_as = ''\n",
    ")"
   ]
  },
  {
   "cell_type": "code",
   "execution_count": null,
   "metadata": {},
   "outputs": [],
   "source": []
  }
 ],
 "metadata": {
  "kernelspec": {
   "display_name": "Python 3",
   "language": "python",
   "name": "python3"
  },
  "language_info": {
   "codemirror_mode": {
    "name": "ipython",
    "version": 3
   },
   "file_extension": ".py",
   "mimetype": "text/x-python",
   "name": "python",
   "nbconvert_exporter": "python",
   "pygments_lexer": "ipython3",
   "version": "3.6.4"
  }
 },
 "nbformat": 4,
 "nbformat_minor": 4
}
